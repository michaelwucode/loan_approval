{
 "cells": [
  {
   "cell_type": "raw",
   "id": "760c08b1",
   "metadata": {},
   "source": [
    "---\n",
    "title: \"loan_approval\"\n",
    "output: pdf_document\n",
    "date: \"2023-11-24\"\n",
    "---"
   ]
  },
  {
   "cell_type": "code",
   "execution_count": null,
   "id": "6b0dc692",
   "metadata": {
    "name": "setup",
    "tags": [
     "remove_cell"
    ]
   },
   "outputs": [],
   "source": [
    "knitr::opts_chunk$set(echo = TRUE)\n",
    "library(readr)\n",
    "library(ggplot2)\n",
    "library(dplyr)\n",
    "library(tidyverse)\n",
    "urlPackage <- \"https://cran.r-project.org/src/contrib/Archive/randomForest/randomForest_4.6-14.tar.gz\"\n",
    "install.packages(urlPackage, repos=NULL, type=\"source\") \n",
    "library(randomForest)"
   ]
  },
  {
   "cell_type": "markdown",
   "id": "ff0a0a44",
   "metadata": {},
   "source": [
    "## Introduction\n",
    "\n",
    "How likely is it that your home loan application gets approved? What factors determine this likelihood? Is it your income? marital status? credit history? or other factors. In this project, we want to discover what kind of factors can most affect the loan approval. We will also be using the machine-learning algorithm, random forest to build a model which can predict whether or not a loan application is approved given the applicant's background, such as gender, credit history, number of dependents, income, and so on. "
   ]
  },
  {
   "cell_type": "code",
   "execution_count": null,
   "id": "e02ec7bf",
   "metadata": {},
   "outputs": [],
   "source": [
    "train <- read_csv(\"~/loan approval/loan_sanction_train.csv\")\n",
    "\n",
    "train$Gender <- as.factor(train$Gender)\n",
    "train$Married <- as.factor(train$Married)\n",
    "train$Education <- as.factor(train$Education)\n",
    "train$Self_Employed <- as.factor(train$Self_Employed)\n",
    "train$Property_Area <- as.factor(train$Property_Area)\n",
    "train$Dependents <- as.factor(train$Dependents)\n",
    "train$Loan_Status <- as.factor(train$Loan_Status)\n",
    "train$total_income <- train$ApplicantIncome + train$CoapplicantIncome\n",
    "train$income_to_loan_ratio <- train$total_income/train$LoanAmount\n",
    "train$Credit_History <- as.factor(train$Credit_History)\n",
    "\n",
    "# remove ID column\n",
    "\n",
    "train <- subset(train, select = -c(Loan_ID))\n",
    "\n",
    "# EDA\n",
    "\n",
    "train_imputed <- rfImpute(Loan_Status ~ ., data = train, iter = 6)\n",
    "\n",
    "for_bar_charts <- train_imputed %>%\n",
    "  select(Gender, Married, Dependents, Education, Self_Employed, Credit_History, Property_Area, Loan_Status)\n",
    "\n",
    "for_hist <- train_imputed %>%\n",
    "  select(ApplicantIncome, CoapplicantIncome, total_income, LoanAmount, Loan_Amount_Term, income_to_loan_ratio, Loan_Status)\n",
    "\n"
   ]
  },
  {
   "cell_type": "markdown",
   "id": "ca10d08a",
   "metadata": {},
   "source": [
    "## EDA\n",
    "\n",
    "# Variables\n",
    "\n",
    "- Loan Status: Whether or not the loan is approved.\n",
    "- Gender: Gender of Applicant.\n",
    "- Marital Status: Whether the applicant is married or not.\n",
    "- # Dependents: Number of dependents(Children) the applicant has.\n",
    "- Educated: Whether the applicant has graduated college.\n",
    "- Self-employed: Whether the applicant is self-employed.\n",
    "- Credit: Applicant's credit history, 1 indicating applicant has good credit score, 0 otherwise.\n",
    "- Property Area: The type of area the applicant lives in: Urban, Suburban, Rural.\n",
    "- Applicant Income: Applicant's income per period.\n",
    "- Co-applicant Income: The co-applicant's income per period.\n",
    "- Total Income: Combined income per period between the applicant and co-applicant.\n",
    "- Loan Amount: The amount of loan requested.\n",
    "- Loan term: The length of the loan in months.\n",
    "- Income-to-loan Ratio: The ratio between total income and loan amount.\n",
    "\n",
    "# Data\n",
    "\n",
    "NA values are imputed using random forest. Income-to-loan ratio is produced by dividing total income by loan amount.\n",
    "\n",
    "# Distribution of Categorical Variables"
   ]
  },
  {
   "cell_type": "code",
   "execution_count": null,
   "id": "78c600e1",
   "metadata": {
    "lines_to_next_cell": 0,
    "name": "pressure",
    "tags": [
     "remove_input"
    ]
   },
   "outputs": [],
   "source": [
    "# Loop through each categorical variable and create a bar plot\n",
    "\n",
    "colnames(for_bar_charts) <- c('Gender', 'Marital Status', '# Dependents',\n",
    "                              'College Graduates', 'Self-employment', \n",
    "                              'Credit History', 'Property Area', 'Loan Status')\n",
    "\n",
    "for (column in colnames(for_bar_charts)) {\n",
    "  # Create a ggplot object for each variable\n",
    "  plot <- ggplot(for_bar_charts, aes(x = .data[[column]])) +\n",
    "    geom_bar(fill = '#04873d', color = 'white') +\n",
    "    labs(title = paste(\"Distribution of\", column)) +\n",
    "    theme_minimal()\n",
    "  \n",
    "  # Display the plot\n",
    "  print(plot)\n",
    "}\n"
   ]
  },
  {
   "cell_type": "markdown",
   "id": "e7818032",
   "metadata": {},
   "source": [
    "Observation: \n",
    "\n",
    "- Most applicants are male, married, have 0 dependents, college graduates, not self-employed, have good credit history.\n",
    "- About 2/3 of loan applications are approved. \n",
    "\n",
    "# Distribution of Continuous Variables"
   ]
  },
  {
   "cell_type": "code",
   "execution_count": null,
   "id": "ff0ae9bd",
   "metadata": {
    "lines_to_next_cell": 0
   },
   "outputs": [],
   "source": [
    "\n",
    "\n",
    "colnames(for_hist) <- c('Applicant Income', 'Coapplicant Income','Total Income',\n",
    "                        'Loan Amount', 'Loan Term','Income-to-Loan Ratio', 'Loan Status')\n",
    "\n",
    "for (column in colnames(for_hist[1:6])) {\n",
    "  # Create a ggplot object for each variable\n",
    "  plot <- ggplot(for_hist, aes(x = .data[[column]])) +\n",
    "    geom_histogram(color = 'white', fill = '#f7831e') +\n",
    "    labs(title = paste(\"Distribution of\", column)) +\n",
    "    theme_minimal()\n",
    "  \n",
    "  # Display the plot\n",
    "  print(plot)\n",
    "}\n",
    "\n"
   ]
  },
  {
   "cell_type": "markdown",
   "id": "a0a4cdb4",
   "metadata": {},
   "source": [
    "Observation: \n",
    "\n",
    "- Most of the loan terms are around 360 months in length. \n",
    "- All income variables are right skewed as expected as observed in the real world.\n",
    "- Loan amount and Income-to-loan Ratio are normally distributed but still right skewed.\n"
   ]
  },
  {
   "cell_type": "code",
   "execution_count": null,
   "id": "9616f5ec",
   "metadata": {
    "lines_to_next_cell": 0
   },
   "outputs": [],
   "source": [
    "for (column in colnames(for_bar_charts[1:7])) {\n",
    "  # Create a ggplot object for each variable\n",
    "  plot <- ggplot(for_bar_charts, aes(fill = `Loan Status`, x = .data[[column]]), y = Value) +\n",
    "    geom_bar(position=\"fill\", color = 'white') +\n",
    "    labs(title = paste(\"Distribution of\", column)) +\n",
    "    theme_minimal()\n",
    "  \n",
    "  # Display the plot\n",
    "  print(plot)\n",
    "}\n"
   ]
  },
  {
   "cell_type": "code",
   "execution_count": null,
   "id": "26199064",
   "metadata": {
    "lines_to_next_cell": 2
   },
   "outputs": [],
   "source": [
    "for (column in colnames(for_hist[1:6])) {\n",
    "  # Create a ggplot object for each variable\n",
    "  plot <- ggplot(for_hist, aes(x = .data[[column]], fill = `Loan Status`)) +\n",
    "    geom_histogram(color = 'white') +\n",
    "    labs(title = paste(\"Distribution of\", column)) +\n",
    "    theme_minimal()\n",
    "  \n",
    "  # Display the plot\n",
    "  print(plot)\n",
    "}\n"
   ]
  },
  {
   "cell_type": "code",
   "execution_count": null,
   "id": "2fdf8f17",
   "metadata": {
    "lines_to_next_cell": 0
   },
   "outputs": [],
   "source": [
    "ggplot(train, aes(x=Loan_Status, y=total_income, color=Loan_Status)) +\n",
    "  geom_boxplot() + ylim(0, 20000) + labs(y = 'Total Income', x = 'Loan Status') +\n",
    "  theme(legend.title= element_blank())\n",
    "\n",
    "ggplot(train, aes(x=Loan_Status, y=income_to_loan_ratio, color=Loan_Status)) +\n",
    "  geom_boxplot() + ylim(0, 160) + labs(y = 'Income-to-loan Ratio', x = 'Loan Status') +\n",
    "  theme(legend.title= element_blank())\n"
   ]
  },
  {
   "cell_type": "markdown",
   "id": "0a214471",
   "metadata": {},
   "source": [
    "Observation:\n",
    "\n",
    "- Surprisingly, income variables, like total income, income-to-loan ratio do not seem to have effects on loan approval.\n",
    "- Smaller loans, less than 50 units, are more likely to be approved than bigger loans.\n",
    "\n",
    "## Modelling"
   ]
  },
  {
   "cell_type": "code",
   "execution_count": null,
   "id": "5f9bfd52",
   "metadata": {
    "lines_to_next_cell": 0
   },
   "outputs": [],
   "source": [
    "\n",
    "set.seed(100)\n",
    "\n",
    "rf <- randomForest(Loan_Status ~ ., data = train_imputed, mtry = 4, ntree = 1501, importance = TRUE)\n",
    "\n",
    "rf\n",
    "\n",
    "plot(rf)\n",
    "\n",
    "importance(rf)\n",
    "varImpPlot(rf)\n"
   ]
  },
  {
   "cell_type": "markdown",
   "id": "999a91ee",
   "metadata": {},
   "source": [
    "## Conclusion\n",
    "\n",
    "- Credit history is the most important factor in determining loan approval.\n",
    "- The rest like, total income, income-to-loan ratio have smaller effects on loan approval.\n",
    "- We have prediction accuracy of 80.29 percent.\n",
    "- The confusion matrix tells us that loans that are supposed to be approved are predicted as approved most of the times by our model, about 93.2 percent of the time.\n",
    "- Loans that are not supposed to be approved are sometimes falsely predicted as approved by our model. This occurs about 48 percent of the times.\n",
    "- Overall, the problem is that the model gives us many false positives (Loans that are not supposed to be approved are approved by our model).\n",
    "\n",
    "## Limitations\n",
    "\n",
    "Why is our model giving so many false-positives? The reason for this, we believe, is that we are missing some very important data, such as debt. For instance, given the data that we have now, an applicant has a very high monthly income, a good credit history, and the loan is also relatively small. Given this information and how our model is trained, this application should be approved, but in reality, it is rejected. Why is that? It is possible that the applicant has a lot of debt, say three million dollars, and that the applicant is barely covering the monthly interest payments. Obviously, it would be risky to lend someone more money when they are already in so much debt and not enough income to cover the interest and principal payments from their massive debt.\n",
    "\n",
    "Another issue is the missing values we have in our data. There are many missing values in our data and we used imputation to impute these data. Obviously, imputation is not perfect, and the imputed data maybe not be accurate.\n"
   ]
  }
 ],
 "metadata": {
  "jupytext": {
   "cell_metadata_filter": "name,tags,-all",
   "notebook_metadata_filter": "-all",
   "text_representation": {
    "extension": ".Rmd",
    "format_name": "rmarkdown"
   }
  },
  "kernelspec": {
   "display_name": "R",
   "language": "R",
   "name": "ir"
  }
 },
 "nbformat": 4,
 "nbformat_minor": 5
}
